{
 "cells": [
  {
   "cell_type": "markdown",
   "metadata": {},
   "source": [
    "## Neural Machine Translation with Seq2Seq in Keras\n",
    "\n",
    "In this article, we will see how to create a language translation model which is also a very famous application of neural machine translation. We will use seq2seq architecture to create our language translation model using Python's Keras library.\n",
    "\n",
    "It is assumed that you have good knowledge of recurrent neural networks, particularly LSTM. The code in this article is written in Python with the Keras library. Therefore, it is assumed that you have good knowledge of the Python language, as well as the Keras library. So, without any further ado, let's begin.\n",
    "\n",
    "## Libraries and Configuration Settings\n",
    "As a first step, we will import the required libraries and will configure values for different parameters that we will be using in the code. Let's first import the required libraries:"
   ]
  },
  {
   "cell_type": "code",
   "execution_count": 96,
   "metadata": {},
   "outputs": [],
   "source": [
    "import os, sys\n",
    "import tensorflow as tf\n",
    "from tensorflow.keras.models import Model\n",
    "from tensorflow.keras.layers import Input, LSTM, GRU, Dense, Embedding\n",
    "from keras.preprocessing.text import Tokenizer\n",
    "from keras.preprocessing.sequence import pad_sequences\n",
    "from keras.utils import to_categorical\n",
    "\n",
    "import numpy as np\n",
    "import matplotlib.pyplot as plt"
   ]
  },
  {
   "cell_type": "markdown",
   "metadata": {},
   "source": [
    "Execute the following script to set values for different parameters:"
   ]
  },
  {
   "cell_type": "code",
   "execution_count": 97,
   "metadata": {},
   "outputs": [],
   "source": [
    "BATCH_SIZE = 64\n",
    "EPOCHS = 20\n",
    "LSTM_NODES = 256\n",
    "NUM_SENTENCES = 20000\n",
    "MAX_NUM_WORDS = 20000\n",
    "MAX_SENTENCE_LENGTH = 50\n",
    "EMBEDDING_SIZE = 100"
   ]
  },
  {
   "cell_type": "markdown",
   "metadata": {},
   "source": [
    "## The Dataset\n",
    "The language translation model that we are going to develop in this article will translate English sentences into their French language counterparts. To develop such a model, we need a dataset that contains English sentences and their French translations. Luckily, such dataset is freely available at this link. Download the file fra-eng.zip and extract it. You will then see the fra.txt file. On each line, the text file contains an English sentence and its French translation, separated by a tab. The first 20 lines of the fra.txt file look like this:\n",
    "\n",
    "The model contains more than 170,000 records, but we will only use the first 20,000 records to train our model. You can use more records if you want.\n",
    "\n",
    "## Data Preprocessing\n",
    "Neural machine translation models are often based on the seq2seq architecture. The seq2seq architecture is an encoder-decoder architecture which consists of two LSTM networks: the encoder LSTM and the decoder LSTM. The input to the encoder LSTM is the sentence in the original language; the input to the decoder LSTM is the sentence in the translated language with a start-of-sentence token. The output is the actual target sentence with an end-of-sentence token.\n",
    "\n",
    "In our dataset, we do not need to process the input, however, we need to generate two copies of the translated sentence: one with the start-of-sentence token and the other with the end-of-sentence token. Here is the script which does that:"
   ]
  },
  {
   "cell_type": "code",
   "execution_count": 98,
   "metadata": {},
   "outputs": [
    {
     "name": "stdout",
     "output_type": "stream",
     "text": [
      "num samples input: 20000\n",
      "num samples output: 20000\n",
      "num samples output input: 20000\n"
     ]
    }
   ],
   "source": [
    "input_sentences = []\n",
    "output_sentences = []\n",
    "output_sentences_inputs = []\n",
    "\n",
    "count = 0\n",
    "for line in open(r'./data/eng-fra.txt', encoding=\"utf-8\"):\n",
    "    count += 1\n",
    "\n",
    "    if count > NUM_SENTENCES:\n",
    "        break\n",
    "\n",
    "    if '\\t' not in line:\n",
    "        continue\n",
    "\n",
    "    input_sentence, output = line.rstrip().split('\\t')\n",
    "\n",
    "    output_sentence = output + ' <eos>'\n",
    "    output_sentence_input = '<sos> ' + output\n",
    "\n",
    "    input_sentences.append(input_sentence)\n",
    "    output_sentences.append(output_sentence)\n",
    "    output_sentences_inputs.append(output_sentence_input)\n",
    "    \n",
    "MAX_NUM_WORDS = len(input_sentences)\n",
    "print(\"num samples input:\", len(input_sentences))\n",
    "print(\"num samples output:\", len(output_sentences))\n",
    "print(\"num samples output input:\", len(output_sentences_inputs))"
   ]
  },
  {
   "cell_type": "markdown",
   "metadata": {},
   "source": [
    "In the script above we create three lists input_sentences[], output_sentences[], and output_sentences_inputs[]. Next, in the for loop the fra.txt file is read line by line. Each line is split into two substrings at the position where the tab occurs. The left substring (the English sentence) is inserted into the input_sentences[] list. The substring to the right of the tab is the corresponding translated French sentence. The <eos> token, which marks the end-of-sentence is prefixed to the translated sentence, and the resultant sentence is appended to the output_sentences[] list. Similarly, the <sos> token, which stands for \"start of sentence\", is concatenated at the start of the translated sentence and the result is added to the output_sentences_inputs[] list. The loop terminates if the number of sentences added to the lists is greater than the NUM_SENTENCES variable, i.e. 20,000.\n",
    "    \n",
    "Let's now randomly print a sentence from the input_sentences[], output_sentences[], and output_sentences_inputs[] lists:"
   ]
  },
  {
   "cell_type": "code",
   "execution_count": 99,
   "metadata": {},
   "outputs": [
    {
     "name": "stdout",
     "output_type": "stream",
     "text": [
      "I'm ill.\n",
      "Je suis malade. <eos>\n",
      "<sos> Je suis malade.\n"
     ]
    }
   ],
   "source": [
    "print(input_sentences[136])\n",
    "print(output_sentences[136])\n",
    "print(output_sentences_inputs[136])"
   ]
  },
  {
   "cell_type": "markdown",
   "metadata": {},
   "source": [
    "## Tokenization and Padding\n",
    "The next step is tokenizing the original and translated sentences and applying padding to the sentences that are longer or shorter than a certain length, which in case of inputs will be the length of the longest input sentence. And for the output this will be the length of the longest sentence in the output.\n",
    "\n",
    "For tokenization, the Tokenizer class from the keras.preprocessing.text library can be used. The tokenizer class performs two tasks:\n",
    "\n",
    "* It divides a sentence into the corresponding list of word\n",
    "* Then it converts the words to integers\n",
    "\n",
    "This is extremely important since deep learning and machine learning algorithms work with numbers. The following script is used to tokenize the input sentences:"
   ]
  },
  {
   "cell_type": "code",
   "execution_count": 100,
   "metadata": {},
   "outputs": [
    {
     "name": "stdout",
     "output_type": "stream",
     "text": [
      "Total unique words in the input: 3532\n",
      "Length of longest sentence in input: 6\n"
     ]
    }
   ],
   "source": [
    "input_tokenizer = Tokenizer(num_words=MAX_NUM_WORDS)\n",
    "input_tokenizer.fit_on_texts(input_sentences)\n",
    "input_integer_seq = input_tokenizer.texts_to_sequences(input_sentences)\n",
    "\n",
    "word2idx_inputs = input_tokenizer.word_index\n",
    "print('Total unique words in the input: %s' % len(word2idx_inputs))\n",
    "\n",
    "max_input_len = max(len(sen) for sen in input_integer_seq)\n",
    "print(\"Length of longest sentence in input: %g\" % max_input_len)"
   ]
  },
  {
   "cell_type": "markdown",
   "metadata": {},
   "source": [
    "In addition to tokenization and integer conversion, the word_index attribute of the Tokenizer class returns a word-to-index dictionary where words are the keys and the corresponding integers are the values. The script above also prints the number of unique words in the dictionary and the length of the longest sentence in the input:\n",
    "\n",
    "Total unique words in the input: 13592\n",
    "\n",
    "Length of longest sentence in input: 48\n",
    "\n",
    "Similarly, the output sentences can also be tokenized in the same way as shown below:"
   ]
  },
  {
   "cell_type": "code",
   "execution_count": 57,
   "metadata": {},
   "outputs": [
    {
     "name": "stdout",
     "output_type": "stream",
     "text": [
      "Total unique words in the output: 9578\n",
      "Length of longest sentence in the output: 13\n"
     ]
    }
   ],
   "source": [
    "output_tokenizer = Tokenizer(num_words=MAX_NUM_WORDS, filters='')\n",
    "output_tokenizer.fit_on_texts(output_sentences + output_sentences_inputs)\n",
    "output_integer_seq = output_tokenizer.texts_to_sequences(output_sentences)\n",
    "output_input_integer_seq = output_tokenizer.texts_to_sequences(output_sentences_inputs)\n",
    "\n",
    "word2idx_outputs = output_tokenizer.word_index\n",
    "print('Total unique words in the output: %s' % len(word2idx_outputs))\n",
    "\n",
    "num_words_output = len(word2idx_outputs) + 1\n",
    "max_out_len = max(len(sen) for sen in output_integer_seq)\n",
    "print(\"Length of longest sentence in the output: %g\" % max_out_len)"
   ]
  },
  {
   "cell_type": "markdown",
   "metadata": {},
   "source": [
    "From the comparison of the number of unique words in the input and the output, it can be concluded that English sentences are normally shorter and contain a smaller number of words on average, compared to the translated French sentences.\n",
    "\n",
    "Next, we need to pad the input. The reason behind padding the input and the output is that text sentences can be of varying length, however LSTM (the algorithm that we are going to train our model) expects input instances with the same length. Therefore, we need to convert our sentences into fixed-length vectors. One way to do this is via padding.\n",
    "\n",
    "In padding, a certain length is defined for a sentence. In our case the length of the longest sentence in the inputs and outputs will be used for padding the input and output sentences, respectively. The longest sentence in the input contains 48 words. For the sentences that contain less than 48 words, zeros will be added in the empty indexes. The following script applies padding to the input sentences."
   ]
  },
  {
   "cell_type": "code",
   "execution_count": 58,
   "metadata": {},
   "outputs": [
    {
     "name": "stdout",
     "output_type": "stream",
     "text": [
      "encoder_input_sequences.shape: (20000, 6)\n",
      "encoder_input_sequences[136]: [  0   0   0   0   7 621]\n"
     ]
    }
   ],
   "source": [
    "encoder_input_sequences = pad_sequences(input_integer_seq, maxlen=max_input_len)\n",
    "print(\"encoder_input_sequences.shape:\", encoder_input_sequences.shape)\n",
    "print(\"encoder_input_sequences[136]:\", encoder_input_sequences[136])"
   ]
  },
  {
   "cell_type": "markdown",
   "metadata": {},
   "source": [
    "The script above prints the shape of the padded input sentences. The padded integer sequence for the sentence at index 172 is also printed. Here is the output:\n",
    "\n",
    "Since there are 20,000 sentences in the input and each input sentence is of length 6, the shape of the input is now (20000, 6). If you look at the integer sequence for the sentence at index 172 of the input sentence, you can see that there are three zeros, followed by the values 6 and 539. You may recall that the original sentence at index 172 is I'm ill. The tokenizer divided the sentence into two words I'm and ill, converted them to integers, and then applied pre-padding by adding three zeros at the start of the corresponding integer sequence for the sentence at index 172 of the input list.\n",
    "\n",
    "To verify that the integer values for i'm and ill are 6 and 539 respectively, you can pass the words to the word2index_inputs dictionary, as shown below"
   ]
  },
  {
   "cell_type": "code",
   "execution_count": 59,
   "metadata": {},
   "outputs": [
    {
     "name": "stdout",
     "output_type": "stream",
     "text": [
      "7\n",
      "621\n"
     ]
    }
   ],
   "source": [
    "print(word2idx_inputs[\"i'm\"])\n",
    "print(word2idx_inputs[\"ill\"])"
   ]
  },
  {
   "cell_type": "markdown",
   "metadata": {},
   "source": [
    "In the same way, the decoder outputs and the decoder inputs are padded as follows:"
   ]
  },
  {
   "cell_type": "code",
   "execution_count": 60,
   "metadata": {},
   "outputs": [
    {
     "name": "stdout",
     "output_type": "stream",
     "text": [
      "decoder_input_sequences.shape: (20000, 13)\n",
      "decoder_input_sequences[136]: [  2   3  11 199   0   0   0   0   0   0   0   0   0]\n"
     ]
    }
   ],
   "source": [
    "decoder_input_sequences = pad_sequences(output_input_integer_seq, maxlen=max_out_len, padding='post')\n",
    "print(\"decoder_input_sequences.shape:\", decoder_input_sequences.shape)\n",
    "print(\"decoder_input_sequences[136]:\", decoder_input_sequences[136])"
   ]
  },
  {
   "cell_type": "markdown",
   "metadata": {},
   "source": [
    "The sentence at index 172 of the decoder input is <sos> je suis malade.. If you print the corresponding integers from the word2idx_outputs dictionary, you should see 2, 3, 6, and 188 printed on the console, as shown here:"
   ]
  },
  {
   "cell_type": "code",
   "execution_count": 102,
   "metadata": {},
   "outputs": [
    {
     "name": "stdout",
     "output_type": "stream",
     "text": [
      "2\n",
      "3\n",
      "11\n",
      "199\n"
     ]
    }
   ],
   "source": [
    "print(word2idx_outputs[\"<sos>\"])\n",
    "print(word2idx_outputs[\"je\"])\n",
    "print(word2idx_outputs[\"suis\"])\n",
    "print(word2idx_outputs[\"malade.\"])"
   ]
  },
  {
   "cell_type": "markdown",
   "metadata": {},
   "source": [
    "## Word Embeddings\n",
    "I have written a detailed article on word embeddings, which you may want to check in order to understand word embeddings in Keras. This section only provides the implementation of word embeddings for neural machine translation. However the basic concept remains the same.\n",
    "\n",
    "Since we are using deep learning models, and deep learning models work with numbers, therefore we need to convert our words into their corresponding numeric vector representations. But we already converted our words into integers. So what's the difference between integer representation and word embeddings?\n",
    "\n",
    "There are two main differences between single integer representation and word embeddings. With integer reprensentation, a word is represented only with a single integer. With vector representation a word is represented by a vector of 50, 100, 200, or whatever dimensions you like. Hence, word embeddings capture a lot more information about words. Secondly, the single-integer representation doesn't capture the relationships between different words. On the contrary, word embeddings retain relationships between the words. You can either use custom word embeddings or you can use pretrained word embeddings.\n",
    "\n",
    "In this article, for English sentences, i.e. the inputs, we will use the GloVe word embeddings. For the translated French sentences in the output, we will use custom word embeddings.\n",
    "\n",
    "Let's create word embeddings for the inputs first. To do so, we need to load the GloVe word vectors into memory. We will then create a dictionary where words are the keys and the corresponding vectors are values, as shown below:"
   ]
  },
  {
   "cell_type": "code",
   "execution_count": 66,
   "metadata": {},
   "outputs": [],
   "source": [
    "from numpy import array\n",
    "from numpy import asarray\n",
    "from numpy import zeros\n",
    "\n",
    "embeddings_dictionary = dict()\n",
    "\n",
    "glove_file = open(r'./data/glove.6B/glove.6B.100d.txt', encoding='utf8')\n",
    "for line in glove_file:\n",
    "    records = line.split()\n",
    "    word = records[0]\n",
    "    vector_dimensions = asarray(records[1:], dtype='float32')\n",
    "    embeddings_dictionary[word] = vector_dimensions\n",
    "glove_file.close()"
   ]
  },
  {
   "cell_type": "markdown",
   "metadata": {},
   "source": [
    "Recall that we have 13592 unique words in the input. We will create a matrix where the row number will represent the integer value for the word and the columns will correspond to the dimensions of the word. This matrix will contain the word embeddings for the words in our input sentences."
   ]
  },
  {
   "cell_type": "code",
   "execution_count": 67,
   "metadata": {},
   "outputs": [],
   "source": [
    "num_words = min(MAX_NUM_WORDS, len(word2idx_inputs) + 1)\n",
    "embedding_matrix = zeros((num_words, EMBEDDING_SIZE))\n",
    "\n",
    "for word, index in word2idx_inputs.items():\n",
    "    embedding_vector = embeddings_dictionary.get(word)\n",
    "    if embedding_vector is not None:\n",
    "        embedding_matrix[index] = embedding_vector"
   ]
  },
  {
   "cell_type": "markdown",
   "metadata": {},
   "source": [
    "Let's first print the word embeddings for the word ill using the GloVe word embedding dictionary."
   ]
  },
  {
   "cell_type": "code",
   "execution_count": 68,
   "metadata": {},
   "outputs": [
    {
     "name": "stdout",
     "output_type": "stream",
     "text": [
      "[ 0.12648    0.1366     0.22192   -0.025204  -0.7197     0.66147\n",
      "  0.48509    0.057223   0.13829   -0.26375   -0.23647    0.74349\n",
      "  0.46737   -0.462      0.20031   -0.26302    0.093948  -0.61756\n",
      " -0.28213    0.1353     0.28213    0.21813    0.16418    0.22547\n",
      " -0.98945    0.29624   -0.62476   -0.29535    0.21534    0.92274\n",
      "  0.38388    0.55744   -0.14628   -0.15674   -0.51941    0.25629\n",
      " -0.0079678  0.12998   -0.029192   0.20868   -0.55127    0.075353\n",
      "  0.44746   -0.71046    0.75562    0.010378   0.095229   0.16673\n",
      "  0.22073   -0.46562   -0.10199   -0.80386    0.45162    0.45183\n",
      "  0.19869   -1.6571     0.7584    -0.40298    0.82426   -0.386\n",
      "  0.0039546  0.61318    0.02701   -0.3308    -0.095652  -0.082164\n",
      "  0.7858     0.13394   -0.32715   -0.31371   -0.20247   -0.73001\n",
      " -0.49343    0.56445    0.61038    0.36777   -0.070182   0.44859\n",
      " -0.61774   -0.18849    0.65592    0.44797   -0.10469    0.62512\n",
      " -1.9474    -0.60622    0.073874   0.50013   -1.1278    -0.42066\n",
      " -0.37322   -0.50538    0.59171    0.46534   -0.42482    0.83265\n",
      "  0.081548  -0.44147   -0.084311  -1.2304   ]\n"
     ]
    }
   ],
   "source": [
    "print(embeddings_dictionary[\"ill\"])"
   ]
  },
  {
   "cell_type": "markdown",
   "metadata": {},
   "source": [
    "In the previous section, we saw that the integer representation for the word `wash is 1116`. Let's now check the 1116th index of the word embedding matrix."
   ]
  },
  {
   "cell_type": "code",
   "execution_count": 69,
   "metadata": {},
   "outputs": [
    {
     "name": "stdout",
     "output_type": "stream",
     "text": [
      "[ 0.12648     0.1366      0.22192    -0.025204   -0.71969998  0.66147\n",
      "  0.48508999  0.057223    0.13829    -0.26374999 -0.23647     0.74348998\n",
      "  0.46737    -0.46200001  0.20031001 -0.26302001  0.093948   -0.61756003\n",
      " -0.28213     0.1353      0.28213     0.21813001  0.16418     0.22547001\n",
      " -0.98944998  0.29624    -0.62475997 -0.29534999  0.21534     0.92273998\n",
      "  0.38387999  0.55743998 -0.14628001 -0.15673999 -0.51941001  0.25628999\n",
      " -0.0079678   0.12998    -0.029192    0.20868    -0.55127001  0.075353\n",
      "  0.44746    -0.71046001  0.75562     0.010378    0.095229    0.16673\n",
      "  0.22073001 -0.46562001 -0.10199    -0.80386001  0.45162001  0.45183\n",
      "  0.19869    -1.65709996  0.75840002 -0.40298     0.82426    -0.38600001\n",
      "  0.0039546   0.61317998  0.02701    -0.3308     -0.095652   -0.082164\n",
      "  0.78579998  0.13394    -0.32714999 -0.31371    -0.20247    -0.73000997\n",
      " -0.49342999  0.56445003  0.61037999  0.36776999 -0.070182    0.44859001\n",
      " -0.61773998 -0.18849     0.65592003  0.44797    -0.10469     0.62511998\n",
      " -1.94739997 -0.60622001  0.073874    0.50013    -1.12779999 -0.42065999\n",
      " -0.37322    -0.50537997  0.59170997  0.46533999 -0.42482001  0.83265001\n",
      "  0.081548   -0.44147    -0.084311   -1.23039997]\n"
     ]
    }
   ],
   "source": [
    "print(embedding_matrix[621])"
   ]
  },
  {
   "cell_type": "markdown",
   "metadata": {},
   "source": [
    "You can see that the values for the 621th row in the embedding matrix are similar to the vector representation of the word ill in the GloVe dictionary, which confirms that rows in the embedding matrix represent corresponding word embeddings from the GloVe word embedding dictionary. This word embedding matrix will be used to create the embedding layer for our LSTM model.\n",
    "\n",
    "The following script creates the embedding layer for the input:\n",
    "\n",
    "## IMPORTANT"
   ]
  },
  {
   "cell_type": "code",
   "execution_count": 70,
   "metadata": {},
   "outputs": [],
   "source": [
    "embedding_layer = Embedding(num_words, EMBEDDING_SIZE, weights=[embedding_matrix], input_length=max_input_len)"
   ]
  },
  {
   "cell_type": "markdown",
   "metadata": {},
   "source": [
    "## Creating the Model\n",
    "Now is the time to develop our model. The first thing we need to do is to define our outputs, as we know that the output will be a sequence of words. Recall that the total number of unique words in the output are 9562. Therefore, each word in the output can be any of the 9562 words. The length of an output sentence is 13. And for each input sentence, we need a corresponding output sentence. Therefore, the final shape of the output will be:\n",
    "\n",
    "`(number of inputs, length of the output sentence, the number of words in the output)`"
   ]
  },
  {
   "cell_type": "code",
   "execution_count": 71,
   "metadata": {},
   "outputs": [
    {
     "data": {
      "text/plain": [
       "(20000, 13, 9579)"
      ]
     },
     "execution_count": 71,
     "metadata": {},
     "output_type": "execute_result"
    }
   ],
   "source": [
    "decoder_targets_one_hot = np.zeros((\n",
    "    len(input_sentences),\n",
    "    max_out_len,\n",
    "    num_words_output),\n",
    "    dtype='float32'\n",
    ")\n",
    "decoder_targets_one_hot.shape"
   ]
  },
  {
   "cell_type": "markdown",
   "metadata": {},
   "source": [
    "To make predictions, the final layer of the model will be a dense layer, therefore we need the outputs in the form of one-hot encoded vectors, since we will be using softmax activation function at the dense layer. To create such one-hot encoded output, the next step is to assign 1 to the column number that corresponds to the integer representation of the word. For instance, the integer representation for ` <sos> je suis malade is [ 2 3 6 188 0 0 0 0 0 0 0 ].` In the decoder_targets_one_hot output array, in the second column of the first row, 1 will be inserted. Similarly, at the third index of the second row, another 1 will be inserted, and so on.\n",
    "\n",
    "Look at the following script:"
   ]
  },
  {
   "cell_type": "code",
   "execution_count": 72,
   "metadata": {},
   "outputs": [],
   "source": [
    "for i, d in enumerate(decoder_input_sequences):\n",
    "    for t, word in enumerate(d):\n",
    "        decoder_targets_one_hot[i, t, word] = 1"
   ]
  },
  {
   "cell_type": "markdown",
   "metadata": {},
   "source": [
    "Next, we need to create the encoder and decoders. The input to the encoder will be the sentence in English and the output will be the hidden state and cell state of the LSTM.\n",
    "\n",
    "The following script defines the encoder:"
   ]
  },
  {
   "cell_type": "code",
   "execution_count": 73,
   "metadata": {},
   "outputs": [],
   "source": [
    "encoder_inputs_placeholder = Input(shape=(max_input_len, ))\n",
    "x = embedding_layer(encoder_inputs_placeholder)\n",
    "encoder = LSTM(LSTM_NODES, return_state=True)\n",
    "\n",
    "encoder_outputs, h, c = encoder(x)\n",
    "encoder_states = [h, c]"
   ]
  },
  {
   "cell_type": "markdown",
   "metadata": {},
   "source": [
    "The next step is to define the decoder. The decoder will have two inputs: the hidden state and cell state from the encoder and the input sentence, which actually will be the output sentence with an <sos> token appended at the beginning.\n",
    "\n",
    "The following script creates the decoder LSTM:"
   ]
  },
  {
   "cell_type": "code",
   "execution_count": 74,
   "metadata": {},
   "outputs": [],
   "source": [
    "decoder_inputs_placeholder = Input(shape=(max_out_len, ))\n",
    "\n",
    "decoder_embedding = Embedding(num_words_output, LSTM_NODES)\n",
    "decoder_inputs_x = decoder_embedding(decoder_inputs_placeholder)\n",
    "\n",
    "decoder_lstm = LSTM(LSTM_NODES, return_sequences=True, return_state=True)\n",
    "decoder_outputs, _, _ = decoder_lstm(decoder_inputs_x, initial_state=encoder_states)"
   ]
  },
  {
   "cell_type": "markdown",
   "metadata": {},
   "source": [
    "Finally, the output from the decoder LSTM is passed through a dense layer to predict decoder outputs, as shown here:"
   ]
  },
  {
   "cell_type": "code",
   "execution_count": 75,
   "metadata": {},
   "outputs": [],
   "source": [
    "decoder_dense = Dense(num_words_output, activation='softmax')\n",
    "decoder_outputs = decoder_dense(decoder_outputs)"
   ]
  },
  {
   "cell_type": "markdown",
   "metadata": {},
   "source": [
    "The next step is to compile the model:"
   ]
  },
  {
   "cell_type": "code",
   "execution_count": 76,
   "metadata": {},
   "outputs": [],
   "source": [
    "model = Model([encoder_inputs_placeholder, decoder_inputs_placeholder], decoder_outputs)\n",
    "model.compile(optimizer='rmsprop', loss='categorical_crossentropy', metrics=['accuracy'])"
   ]
  },
  {
   "cell_type": "markdown",
   "metadata": {},
   "source": [
    "Let's plot our model to see how it looks:"
   ]
  },
  {
   "cell_type": "code",
   "execution_count": 77,
   "metadata": {},
   "outputs": [
    {
     "data": {
      "image/png": "[encoded data removed]",
      "text/plain": [
       "<IPython.core.display.Image object>"
      ]
     },
     "execution_count": 77,
     "metadata": {},
     "output_type": "execute_result"
    }
   ],
   "source": [
    "from tensorflow.keras.utils import plot_model\n",
    "plot_model(model, to_file='model_plot4a.png', show_shapes=True, show_layer_names=True)"
   ]
  },
  {
   "cell_type": "markdown",
   "metadata": {},
   "source": [
    "From the output, you can see that we have two types of input. input_1 is the input placeholder for the encoder, which is embedded and passed through lstm_1 layer, which basically is the encoder LSTM. There are three outputs from the lstm_1 layer: the output, the hidden layer and the cell state. However, only the cell state and the hidden state are passed to the decoder.\n",
    "\n",
    "Here the lstm_2 layer is the decoder LSTM. The input_2 contains the output sentences with <sos> token appended at the start. The input_2 is also passed through an embedding layer and is used as input to the decoder LSTM, lstm_2. Finally, the output from the decoder LSTM is passed through the dense layer to make predictions.\n",
    "\n",
    "The next step is to train the model using the fit() method:"
   ]
  },
  {
   "cell_type": "code",
   "execution_count": 23,
   "metadata": {
    "scrolled": true
   },
   "outputs": [
    {
     "name": "stdout",
     "output_type": "stream",
     "text": [
      "Epoch 1/20\n",
      "282/282 [==============================] - 33s 115ms/step - loss: 1.8540 - accuracy: 0.7467 - val_loss: 1.5608 - val_accuracy: 0.7789\n",
      "Epoch 2/20\n",
      "282/282 [==============================] - 30s 106ms/step - loss: 1.0274 - accuracy: 0.8600 - val_loss: 1.1252 - val_accuracy: 0.8556\n",
      "Epoch 3/20\n",
      "282/282 [==============================] - 30s 108ms/step - loss: 0.7881 - accuracy: 0.8972 - val_loss: 0.9780 - val_accuracy: 0.8828\n",
      "Epoch 4/20\n",
      "282/282 [==============================] - 30s 107ms/step - loss: 0.6639 - accuracy: 0.9148 - val_loss: 0.8878 - val_accuracy: 0.8953\n",
      "Epoch 5/20\n",
      "282/282 [==============================] - 30s 107ms/step - loss: 0.5865 - accuracy: 0.9253 - val_loss: 0.8323 - val_accuracy: 0.9054\n",
      "Epoch 6/20\n",
      "282/282 [==============================] - 30s 106ms/step - loss: 0.5345 - accuracy: 0.9334 - val_loss: 0.7998 - val_accuracy: 0.9108\n",
      "Epoch 7/20\n",
      "282/282 [==============================] - 30s 105ms/step - loss: 0.4952 - accuracy: 0.9396 - val_loss: 0.7713 - val_accuracy: 0.9170\n",
      "Epoch 8/20\n",
      "282/282 [==============================] - 30s 106ms/step - loss: 0.4622 - accuracy: 0.9441 - val_loss: 0.7560 - val_accuracy: 0.9199\n",
      "Epoch 9/20\n",
      "282/282 [==============================] - 30s 106ms/step - loss: 0.4435 - accuracy: 0.9477 - val_loss: 0.7466 - val_accuracy: 0.9224\n",
      "Epoch 10/20\n",
      "282/282 [==============================] - 30s 105ms/step - loss: 0.4250 - accuracy: 0.9510 - val_loss: 0.7391 - val_accuracy: 0.9253\n",
      "Epoch 11/20\n",
      "282/282 [==============================] - 30s 105ms/step - loss: 0.4083 - accuracy: 0.9535 - val_loss: 0.7285 - val_accuracy: 0.9273\n",
      "Epoch 12/20\n",
      "282/282 [==============================] - 30s 105ms/step - loss: 0.3941 - accuracy: 0.9559 - val_loss: 0.7204 - val_accuracy: 0.9293\n",
      "Epoch 13/20\n",
      "282/282 [==============================] - 30s 105ms/step - loss: 0.3781 - accuracy: 0.9579 - val_loss: 0.7096 - val_accuracy: 0.9306\n",
      "Epoch 14/20\n",
      "282/282 [==============================] - 30s 106ms/step - loss: 0.3632 - accuracy: 0.9599 - val_loss: 0.7055 - val_accuracy: 0.9320\n",
      "Epoch 15/20\n",
      "282/282 [==============================] - 30s 106ms/step - loss: 0.3478 - accuracy: 0.9619 - val_loss: 0.6968 - val_accuracy: 0.9334\n",
      "Epoch 16/20\n",
      "282/282 [==============================] - 30s 106ms/step - loss: 0.3378 - accuracy: 0.9633 - val_loss: 0.6944 - val_accuracy: 0.9338\n",
      "Epoch 17/20\n",
      "282/282 [==============================] - 30s 107ms/step - loss: 0.3294 - accuracy: 0.9646 - val_loss: 0.6904 - val_accuracy: 0.9347\n",
      "Epoch 18/20\n",
      "282/282 [==============================] - 30s 105ms/step - loss: 0.3230 - accuracy: 0.9657 - val_loss: 0.6880 - val_accuracy: 0.9355\n",
      "Epoch 19/20\n",
      "282/282 [==============================] - 30s 106ms/step - loss: 0.3174 - accuracy: 0.9667 - val_loss: 0.6868 - val_accuracy: 0.9361\n",
      "Epoch 20/20\n",
      "282/282 [==============================] - 30s 105ms/step - loss: 0.3118 - accuracy: 0.9677 - val_loss: 0.6842 - val_accuracy: 0.9371\n"
     ]
    }
   ],
   "source": [
    "r = model.fit(\n",
    "    [encoder_input_sequences, decoder_input_sequences],\n",
    "    decoder_targets_one_hot,\n",
    "    batch_size=BATCH_SIZE,\n",
    "    epochs=EPOCHS,\n",
    "    validation_split=0.1,\n",
    ")"
   ]
  },
  {
   "cell_type": "markdown",
   "metadata": {},
   "source": [
    "The model is trained on 18,000 records and tested on the remaining 2,000 records. The model is trained for 20 epochs, you can modify the number of epochs to see if you can get better results. After 20 epochs, I got training accuracy of 90.99% and the validation accuracy of 79.11% which shows that the model is overfitting. To reduce overfitting, you can add dropout or more records. We are only training on 20,0000 records, so you can add more records to reduce overfitting.\n",
    "\n",
    "## Modifying the Model for Predictions\n",
    "While training, we know the actual inputs to the decoder for all the output words in the sequence. An example of what happens during training is as follows. Suppose we have a sentence i'm ill. The sentence is translated as follows:\n",
    "\n",
    "<code class=\"hljs\">// Inputs on the left of Encoder/Decoder, outputs on the right.\n",
    "\n",
    "Step 1:\n",
    "I'm ill -&gt; Encoder -&gt; enc(h1,c1)\n",
    "\n",
    "enc(h1,c1) + &lt;sos&gt; -&gt; Decoder -&gt; je + dec(h1,c1)\n",
    "\n",
    "step 2:\n",
    "\n",
    "enc(h1,c1) + je -&gt; Decoder -&gt; suis + dec(h2,c2)\n",
    "\n",
    "step 3:\n",
    "\n",
    "enc(h2,c2) + suis -&gt; Decoder -&gt; malade. + dec(h3,c3)\n",
    "\n",
    "step 3:\n",
    "\n",
    "enc(h3,c3) + malade. -&gt; Decoder -&gt; &lt;eos&gt; + dec(h4,c4)\n",
    "</code>\n",
    "\n",
    "You can see that the input to the decoder and output from the decoder is known and the model is trained on the basis of these inputs and outputs.\n",
    "\n",
    "However, during predictions the next word will be predicted on the basis of the previous word, which in turn is also predicted in the previous time-step. Now you will understand the purpose of <sos> and <eos> tokens. While making actual predictions, the full output sequence is not available, in fact that is what we have to predict. During prediction the only word available to us is <sos> since all the output sentences start with <sos>.\n",
    "    \n",
    "An example of what happens during prediction is as follows. We will again translate the sentence i'm ill:\n",
    "\n",
    "<code class=\"hljs\">// Inputs on the left of Encoder/Decoder, outputs on the right.\n",
    "\n",
    "Step 1:\n",
    "\n",
    "I'm ill -&gt; Encoder -&gt; enc(h1,c1)\n",
    "\n",
    "enc(h1,c1) + &lt;sos&gt; -&gt; Decoder -&gt; y1(je) + dec(h1,c1)\n",
    "\n",
    "step 2:\n",
    "\n",
    "enc(h1,c1) + y1 -&gt; Decoder -&gt; y2(suis) + dec(h2,c2)\n",
    "\n",
    "step 3:\n",
    "\n",
    "enc(h2,c2) + y2 -&gt; Decoder -&gt; y3(malade.) + dec(h3,c3)\n",
    "\n",
    "step 3:\n",
    "\n",
    "enc(h3,c3) + y3 -&gt; Decoder -&gt; y4(&lt;eos&gt;) + dec(h4,c4)\n",
    "</code>\n",
    "    \n",
    "You can see that the functionality of the encoder remains the same. The sentence in the original language is passed through the encoder and the hidden state, and the cell state is the output from the encoder.\n",
    "\n",
    "In step 1, the hidden state and cell state of the encoder, and the <sos>, is used as input to the decoder. The decoder predicts a word y1 which may or may not be true. However, as per our model, the probability of correct prediction is 0.7911. At step 2, the decoder hidden state and cell state from step 1, along with y1, is used as input to the decoder, which predicts y2. The process continues until the <eos> token is encountered. All the predicted outputs from the decoder are then concatenated to form the final output sentence. Let's modify our model to implement this logic.\n",
    "\n",
    "The encoder model remains the same:"
   ]
  },
  {
   "cell_type": "code",
   "execution_count": 103,
   "metadata": {},
   "outputs": [],
   "source": [
    "encoder_model = Model(encoder_inputs_placeholder, encoder_states)"
   ]
  },
  {
   "cell_type": "markdown",
   "metadata": {},
   "source": [
    "Since now at each step we need the decoder hidden and cell states, we will modify our model to accept the hidden and cell states as shown below:"
   ]
  },
  {
   "cell_type": "code",
   "execution_count": 25,
   "metadata": {},
   "outputs": [],
   "source": [
    "decoder_state_input_h = Input(shape=(LSTM_NODES,))\n",
    "decoder_state_input_c = Input(shape=(LSTM_NODES,))\n",
    "decoder_states_inputs = [decoder_state_input_h, decoder_state_input_c]"
   ]
  },
  {
   "cell_type": "markdown",
   "metadata": {},
   "source": [
    "Now at each time step, there will be only single word in the decoder input, we need to modify the decoder embedding layer as follows:"
   ]
  },
  {
   "cell_type": "code",
   "execution_count": 26,
   "metadata": {},
   "outputs": [],
   "source": [
    "decoder_inputs_single = Input(shape=(1,))\n",
    "decoder_inputs_single_x = decoder_embedding(decoder_inputs_single)"
   ]
  },
  {
   "cell_type": "markdown",
   "metadata": {},
   "source": [
    "Next, we need to create the placeholder for decoder outputs:"
   ]
  },
  {
   "cell_type": "code",
   "execution_count": 27,
   "metadata": {},
   "outputs": [],
   "source": [
    "decoder_outputs, h, c = decoder_lstm(decoder_inputs_single_x, initial_state=decoder_states_inputs)"
   ]
  },
  {
   "cell_type": "markdown",
   "metadata": {},
   "source": [
    "To make predictions, the decoder output is passed through the dense layer:"
   ]
  },
  {
   "cell_type": "code",
   "execution_count": 28,
   "metadata": {},
   "outputs": [],
   "source": [
    "decoder_states = [h, c]\n",
    "decoder_outputs = decoder_dense(decoder_outputs)"
   ]
  },
  {
   "cell_type": "markdown",
   "metadata": {},
   "source": [
    "The final step is to define the updated decoder model, as shown here:"
   ]
  },
  {
   "cell_type": "code",
   "execution_count": 29,
   "metadata": {},
   "outputs": [],
   "source": [
    "decoder_model = Model(\n",
    "    [decoder_inputs_single] + decoder_states_inputs,\n",
    "    [decoder_outputs] + decoder_states\n",
    ")"
   ]
  },
  {
   "cell_type": "markdown",
   "metadata": {},
   "source": [
    "Let's now plot our modified decoder LSTM that makes predictions:"
   ]
  },
  {
   "cell_type": "code",
   "execution_count": 30,
   "metadata": {},
   "outputs": [
    {
     "data": {
      "image/png": "[encoded data removed]",
      "text/plain": [
       "<IPython.core.display.Image object>"
      ]
     },
     "execution_count": 30,
     "metadata": {},
     "output_type": "execute_result"
    }
   ],
   "source": [
    "plot_model(decoder_model, to_file=\"model_plot_dec.png\", show_shapes=True, show_layer_names=True)"
   ]
  },
  {
   "cell_type": "markdown",
   "metadata": {},
   "source": [
    "In the image above lstm_2 is the modified decoder LSTM. You can see that it accepts the sentence with with one word as shown in input_5, and the hidden and cell states from the previous output (input_3 and input_4). You can see that the shape of the of the input sentence is now (none,1) since there will be only one word in the decoder input. On the contrary, during training the shape of the input sentence was (None,6) since the input contained a complete sentence with a maximum length of 6.\n",
    "\n",
    "## Making Predictions\n",
    "\n",
    "In this step, you will see how to make predictions using English sentences as inputs.\n",
    "\n",
    "In the tokenization steps, we converted words to integers. The outputs from the decoder will also be integers. However, we want our output to be a sequence of words in the French language. To do so, we need to convert the integers back to words. We will create new dictionaries for both inputs and outputs where the keys will be the integers and the corresponding values will be the words."
   ]
  },
  {
   "cell_type": "code",
   "execution_count": 104,
   "metadata": {},
   "outputs": [],
   "source": [
    "idx2word_input = {v:k for k, v in word2idx_inputs.items()}\n",
    "idx2word_target = {v:k for k, v in word2idx_outputs.items()}"
   ]
  },
  {
   "cell_type": "markdown",
   "metadata": {},
   "source": [
    "Next we will create a method, i.e. translate_sentence(). The method will accept an input-padded sequence English sentence (in the integer form) and will return the translated French sentence. Look at the translate_sentence() method:"
   ]
  },
  {
   "cell_type": "code",
   "execution_count": 115,
   "metadata": {},
   "outputs": [],
   "source": [
    "h_ = []\n",
    "def translate_sentence(input_seq):\n",
    "    states_value = encoder_model.predict(input_seq)\n",
    "    target_seq = np.zeros((1, 1))\n",
    "    target_seq[0, 0] = word2idx_outputs['<sos>']\n",
    "    eos = word2idx_outputs['<eos>']\n",
    "    output_sentence = []\n",
    "\n",
    "    for _ in range(max_out_len):\n",
    "        output_tokens, h, c = decoder_model.predict([target_seq] + states_value)\n",
    "        idx = np.argmax(output_tokens[0, 0, :])\n",
    "        h_.append(output_tokens)\n",
    "\n",
    "        if eos == idx:\n",
    "            break\n",
    "\n",
    "        word = ''\n",
    "\n",
    "        if idx > 0:\n",
    "            word = idx2word_target[idx]\n",
    "            if word != '<sos>':\n",
    "                output_sentence.append(word)\n",
    "\n",
    "        target_seq[0, 0] = idx\n",
    "        states_value = [h, c]\n",
    "\n",
    "    return ' '.join(output_sentence)"
   ]
  },
  {
   "cell_type": "markdown",
   "metadata": {},
   "source": [
    "In the script above we pass the input sequence to the encoder_model, which predicts the hidden state and the cell state, which are stored in the states_value variable.\n",
    "\n",
    "Next, we define a variable target_seq, which is a 1 x 1 matrix of all zeros. The target_seq variable contains the first word to the decoder model, which is <sos>.\n",
    "\n",
    "After that, the eos variable is initialized, which stores the integer value for the <eos> token. In the next line, the output_sentence list is defined, which will contain the predicted translation.\n",
    "\n",
    "Next, we execute a for loop. The number of execution cycles for the for loop is equal to the length of the longest sentence in the output. Inside the loop, in the first iteration, the decoder_model predicts the output and the hidden and cell states, using the hidden and cell state of the encoder, and the input token, i.e. <sos>. The index of the predicted word is stored in the idx variable. If the value of the predicted index is equal to the <eos> token, the loop terminates. Else if the predicted index is greater than zero, the corresponding word is retrieved from the idx2word dictionary and is stored in the word variable, which is then appended to the output_sentence list. The states_value variable is updated with the new hidden and cell state of the decoder and the index of the predicted word is stored in the target_seq variable. In the next loop cycle, the updated hidden and cell states, along with the index of the previously predicted word, are used to make new predictions. The loop continues until the maximum output sequence length is achieved or the <eos> token is encountered.\n",
    "\n",
    "Finally, the words in the output_sentence list are concatenated using a space and the resulting string is returned to the calling function.\n",
    "    \n",
    "## Testing the Model\n",
    "\n",
    "To test the code, we will randomly choose a sentence from the input_sentences list, retrieve the corresponding padded sequence for the sentence, and will pass it to the translate_sentence() method. The method will return the translated sentence as shown below.\n",
    "\n",
    "Here is the script to test the functionality of the model:"
   ]
  },
  {
   "cell_type": "code",
   "execution_count": 106,
   "metadata": {},
   "outputs": [
    {
     "data": {
      "text/plain": [
       "13"
      ]
     },
     "execution_count": 106,
     "metadata": {},
     "output_type": "execute_result"
    }
   ],
   "source": [
    "# np.argmax(h_[0][0,0,:])\n",
    "# h_[0][0,0,:]\n",
    "max_out_len"
   ]
  },
  {
   "cell_type": "code",
   "execution_count": 117,
   "metadata": {},
   "outputs": [
    {
     "name": "stdout",
     "output_type": "stream",
     "text": [
      "-\n",
      "Input:  You're overworked.\n",
      "Response:  \n"
     ]
    }
   ],
   "source": [
    "i = np.random.choice(len(input_sentences))\n",
    "input_seq = encoder_input_sequences[i: i+1]\n",
    "translation = translate_sentence(input_seq)\n",
    "print('-')\n",
    "print(\"Input: \", input_sentences[i])\n",
    "print('Response: ', translation)"
   ]
  },
  {
   "cell_type": "code",
   "execution_count": null,
   "metadata": {},
   "outputs": [],
   "source": []
  }
 ],
 "metadata": {
  "kernelspec": {
   "display_name": "Python 3",
   "language": "python",
   "name": "python3"
  },
  "language_info": {
   "codemirror_mode": {
    "name": "ipython",
    "version": 3
   },
   "file_extension": ".py",
   "mimetype": "text/x-python",
   "name": "python",
   "nbconvert_exporter": "python",
   "pygments_lexer": "ipython3",
   "version": "3.7.6"
  }
 },
 "nbformat": 4,
 "nbformat_minor": 4
}
